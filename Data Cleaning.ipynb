{
 "cells": [
  {
   "cell_type": "code",
   "execution_count": null,
   "id": "0982961a",
   "metadata": {},
   "outputs": [],
   "source": [
    "try:\n",
    "    import pyspark \n",
    "    print(\"Done\")\n",
    "except:\n",
    "    print(\"installing\")\n",
    "    import os\n",
    "    os.system(\"pip install pyspark\")\n",
    "    import pyspark\n",
    "    print(\"PySpark installed successfully!\")"
   ]
  },
  {
   "cell_type": "code",
   "execution_count": null,
   "id": "74665ca1",
   "metadata": {},
   "outputs": [],
   "source": [
    "from pyspark.sql import SparkSession\n",
    "from pyspark.sql.functions import col, when, trim, to_timestamp, lower\n",
    "from pyspark.sql.types import DoubleType"
   ]
  },
  {
   "cell_type": "code",
   "execution_count": null,
   "id": "079ec611",
   "metadata": {},
   "outputs": [],
   "source": [
    "spark = SparkSession.builder.appName(\"Data Cleaning\").getOrCreate()\n",
    "df = spark.read.csv(\"transactions_unsupervised.csv\", header=True, inferSchema=True)\n",
    "\n"
   ]
  },
  {
   "cell_type": "code",
   "execution_count": null,
   "id": "f358e359",
   "metadata": {},
   "outputs": [],
   "source": [
    "clean_df = (\n",
    "    df\n",
    "    .withColumn(\"Location\", trim(col(\"Location\")))\n",
    "    .withColumn(\"Amount\", when(col(\"Amount\").isNull() | (col(\"Amount\") < 0), 0).otherwise(col(\"Amount\").cast(DoubleType())))\n",
    "    .withColumn(\"Time\", to_timestamp(col(\"Time\")))\n",
    "    .filter(col(\"TransactionID\").isNotNull() & col(\"UserID\").isNotNull())\n",
    ")"
   ]
  },
  {
   "cell_type": "code",
   "execution_count": null,
   "id": "e71fdb0b",
   "metadata": {},
   "outputs": [],
   "source": []
  },
  {
   "cell_type": "code",
   "execution_count": null,
   "id": "00987808",
   "metadata": {},
   "outputs": [],
   "source": []
  },
  {
   "cell_type": "code",
   "execution_count": null,
   "id": "24fdd1bc",
   "metadata": {},
   "outputs": [],
   "source": []
  }
 ],
 "metadata": {
  "kernelspec": {
   "display_name": "Python 3",
   "language": "python",
   "name": "python3"
  },
  "language_info": {
   "codemirror_mode": {
    "name": "ipython",
    "version": 3
   },
   "file_extension": ".py",
   "mimetype": "text/x-python",
   "name": "python",
   "nbconvert_exporter": "python",
   "pygments_lexer": "ipython3",
   "version": "3.13.5"
  }
 },
 "nbformat": 4,
 "nbformat_minor": 5
}
